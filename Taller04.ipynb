{
 "cells": [
  {
   "metadata": {},
   "cell_type": "markdown",
   "source": [
    "## Ejercicio 1\n",
    "##### A)  Interpole los puntos:\n",
    "p1 = (5.4, 3.2)\n",
    "p2_i = (9.5, 0.7)\n",
    "p3 = (12.3, -3.6)\n",
    "De estos, el punto p2i\n",
    "  debe ser seleccionable y movible. Cree un programa que interpole una parábola en tiempo real para los tres puntos."
   ],
   "id": "3b8d45620da207f0"
  },
  {
   "cell_type": "code",
   "execution_count": null,
   "id": "d6cddad1",
   "metadata": {},
   "outputs": [],
   "source": "#"
  }
 ],
 "metadata": {
  "language_info": {
   "name": "python"
  }
 },
 "nbformat": 4,
 "nbformat_minor": 5
}
